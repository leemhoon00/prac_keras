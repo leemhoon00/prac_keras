{
  "nbformat": 4,
  "nbformat_minor": 0,
  "metadata": {
    "colab": {
      "name": "케라스실습_영화 리뷰 분류_이진분류.ipynb",
      "provenance": [],
      "authorship_tag": "ABX9TyMKd51ZkRluj/T4JM78pXu6",
      "include_colab_link": true
    },
    "kernelspec": {
      "name": "python3",
      "display_name": "Python 3"
    },
    "language_info": {
      "name": "python"
    },
    "accelerator": "GPU"
  },
  "cells": [
    {
      "cell_type": "markdown",
      "metadata": {
        "id": "view-in-github",
        "colab_type": "text"
      },
      "source": [
        "<a href=\"https://colab.research.google.com/github/leemhoon00/prac_keras_1/blob/main/%EC%BC%80%EB%9D%BC%EC%8A%A4%EC%8B%A4%EC%8A%B5_%EC%98%81%ED%99%94_%EB%A6%AC%EB%B7%B0_%EB%B6%84%EB%A5%98_%EC%9D%B4%EC%A7%84%EB%B6%84%EB%A5%98.ipynb\" target=\"_parent\"><img src=\"https://colab.research.google.com/assets/colab-badge.svg\" alt=\"Open In Colab\"/></a>"
      ]
    },
    {
      "cell_type": "markdown",
      "source": [
        "코드 3-1 IMDB 데이터셋 로드하기"
      ],
      "metadata": {
        "id": "WqS4uOQwKZwo"
      }
    },
    {
      "cell_type": "code",
      "execution_count": 2,
      "metadata": {
        "colab": {
          "base_uri": "https://localhost:8080/"
        },
        "id": "vBvgS7bdCHRH",
        "outputId": "c131aa94-40ff-47c3-f684-9e0b9cb24b6a"
      },
      "outputs": [
        {
          "output_type": "stream",
          "name": "stdout",
          "text": [
            "Downloading data from https://storage.googleapis.com/tensorflow/tf-keras-datasets/imdb.npz\n",
            "17465344/17464789 [==============================] - 0s 0us/step\n",
            "17473536/17464789 [==============================] - 0s 0us/step\n"
          ]
        }
      ],
      "source": [
        "from keras.datasets import imdb\n",
        "(train_data, train_labels), (test_data,test_labels) = imdb.load_data(num_words=10000)"
      ]
    },
    {
      "cell_type": "markdown",
      "source": [
        "코드 3-2 정수 시퀀스를 이진 행렬로 인코딩하기"
      ],
      "metadata": {
        "id": "MfBQhMXuKjxU"
      }
    },
    {
      "cell_type": "code",
      "source": [
        "import numpy as np\n",
        "\n",
        "def vectorize_sequences(sequences, dimension=10000):\n",
        "  results = np.zeros((len(sequences), dimension))\n",
        "  for i, sequence in enumerate(sequences):\n",
        "    results[i,sequence] = 1.\n",
        "  return results\n",
        "\n",
        "x_train = vectorize_sequences(train_data)\n",
        "x_test = vectorize_sequences(test_data)"
      ],
      "metadata": {
        "id": "lL-STX5nusFX"
      },
      "execution_count": 3,
      "outputs": []
    },
    {
      "cell_type": "markdown",
      "source": [
        "레이블을 벡터로 바꾸기"
      ],
      "metadata": {
        "id": "NAbHB5hoM1Jh"
      }
    },
    {
      "cell_type": "code",
      "source": [
        "y_train = np.asarray(train_labels).astype('float32')\n",
        "y_test = np.asarray(test_labels).astype('float32')"
      ],
      "metadata": {
        "id": "n2-xfxOQM2ry"
      },
      "execution_count": 4,
      "outputs": []
    },
    {
      "cell_type": "markdown",
      "source": [
        "코드 3-3 모델 정의하기"
      ],
      "metadata": {
        "id": "Fok-LNmMO6ln"
      }
    },
    {
      "cell_type": "code",
      "source": [
        "from keras import models\n",
        "from keras import layers\n",
        "\n",
        "model = models.Sequential()\n",
        "model.add(layers.Dense(16,activation='relu', input_shape=(10000,)))\n",
        "model.add(layers.Dense(16,activation='relu'))\n",
        "model.add(layers.Dense(1, activation='sigmoid'))"
      ],
      "metadata": {
        "id": "gLrqO2HSO86Y"
      },
      "execution_count": 5,
      "outputs": []
    },
    {
      "cell_type": "markdown",
      "source": [
        "코드 3-4 모델 컴파일하기"
      ],
      "metadata": {
        "id": "Do35d62zUqMj"
      }
    },
    {
      "cell_type": "code",
      "source": [
        "model.compile(optimizer='rmsprop',loss='binary_crossentropy',metrics=['accuracy'])"
      ],
      "metadata": {
        "id": "J11SSoKoUtar"
      },
      "execution_count": 6,
      "outputs": []
    },
    {
      "cell_type": "markdown",
      "source": [
        "코드 3-7 검증 세트 준비하기"
      ],
      "metadata": {
        "id": "3b4FlWuLqlyE"
      }
    },
    {
      "cell_type": "code",
      "source": [
        "x_val = x_train[:10000]\n",
        "partial_x_train = x_train[10000:]\n",
        "y_val = y_train[:10000]\n",
        "partial_y_train = y_train[10000:]"
      ],
      "metadata": {
        "id": "PkJtk0ImqqXM"
      },
      "execution_count": 7,
      "outputs": []
    },
    {
      "cell_type": "markdown",
      "source": [
        "코드 3-8 모델 훈련하기"
      ],
      "metadata": {
        "id": "_GFRrwIGrRWL"
      }
    },
    {
      "cell_type": "code",
      "source": [
        "model.compile(optimizer='rmsprop',loss='binary_crossentropy',metrics=['acc'])\n",
        "\n",
        "history = model.fit(partial_x_train,partial_y_train,epochs=20,batch_size=512,validation_data=(x_val, y_val))"
      ],
      "metadata": {
        "colab": {
          "base_uri": "https://localhost:8080/"
        },
        "id": "PE7ivG91rT47",
        "outputId": "14ce06b1-c7f9-4f42-b9b9-a85d3183af83"
      },
      "execution_count": 8,
      "outputs": [
        {
          "output_type": "stream",
          "name": "stdout",
          "text": [
            "Epoch 1/20\n",
            "30/30 [==============================] - 4s 43ms/step - loss: 0.5512 - acc: 0.7598 - val_loss: 0.4209 - val_acc: 0.8711\n",
            "Epoch 2/20\n",
            "30/30 [==============================] - 1s 25ms/step - loss: 0.3304 - acc: 0.9008 - val_loss: 0.3196 - val_acc: 0.8849\n",
            "Epoch 3/20\n",
            "30/30 [==============================] - 1s 22ms/step - loss: 0.2379 - acc: 0.9241 - val_loss: 0.2986 - val_acc: 0.8825\n",
            "Epoch 4/20\n",
            "30/30 [==============================] - 1s 21ms/step - loss: 0.1842 - acc: 0.9411 - val_loss: 0.2774 - val_acc: 0.8878\n",
            "Epoch 5/20\n",
            "30/30 [==============================] - 1s 21ms/step - loss: 0.1472 - acc: 0.9534 - val_loss: 0.2878 - val_acc: 0.8871\n",
            "Epoch 6/20\n",
            "30/30 [==============================] - 1s 21ms/step - loss: 0.1217 - acc: 0.9623 - val_loss: 0.3108 - val_acc: 0.8784\n",
            "Epoch 7/20\n",
            "30/30 [==============================] - 1s 21ms/step - loss: 0.1020 - acc: 0.9706 - val_loss: 0.3076 - val_acc: 0.8862\n",
            "Epoch 8/20\n",
            "30/30 [==============================] - 1s 25ms/step - loss: 0.0858 - acc: 0.9765 - val_loss: 0.3312 - val_acc: 0.8795\n",
            "Epoch 9/20\n",
            "30/30 [==============================] - 1s 21ms/step - loss: 0.0712 - acc: 0.9799 - val_loss: 0.3481 - val_acc: 0.8826\n",
            "Epoch 10/20\n",
            "30/30 [==============================] - 1s 21ms/step - loss: 0.0583 - acc: 0.9852 - val_loss: 0.3907 - val_acc: 0.8709\n",
            "Epoch 11/20\n",
            "30/30 [==============================] - 1s 21ms/step - loss: 0.0473 - acc: 0.9889 - val_loss: 0.4149 - val_acc: 0.8781\n",
            "Epoch 12/20\n",
            "30/30 [==============================] - 1s 22ms/step - loss: 0.0388 - acc: 0.9915 - val_loss: 0.4384 - val_acc: 0.8768\n",
            "Epoch 13/20\n",
            "30/30 [==============================] - 1s 21ms/step - loss: 0.0297 - acc: 0.9947 - val_loss: 0.4613 - val_acc: 0.8733\n",
            "Epoch 14/20\n",
            "30/30 [==============================] - 1s 24ms/step - loss: 0.0262 - acc: 0.9947 - val_loss: 0.5136 - val_acc: 0.8753\n",
            "Epoch 15/20\n",
            "30/30 [==============================] - 1s 22ms/step - loss: 0.0165 - acc: 0.9978 - val_loss: 0.5317 - val_acc: 0.8674\n",
            "Epoch 16/20\n",
            "30/30 [==============================] - 1s 22ms/step - loss: 0.0177 - acc: 0.9962 - val_loss: 0.5657 - val_acc: 0.8715\n",
            "Epoch 17/20\n",
            "30/30 [==============================] - 1s 22ms/step - loss: 0.0088 - acc: 0.9993 - val_loss: 0.6066 - val_acc: 0.8701\n",
            "Epoch 18/20\n",
            "30/30 [==============================] - 1s 21ms/step - loss: 0.0092 - acc: 0.9989 - val_loss: 0.6424 - val_acc: 0.8698\n",
            "Epoch 19/20\n",
            "30/30 [==============================] - 1s 21ms/step - loss: 0.0109 - acc: 0.9979 - val_loss: 0.6723 - val_acc: 0.8681\n",
            "Epoch 20/20\n",
            "30/30 [==============================] - 1s 21ms/step - loss: 0.0036 - acc: 0.9998 - val_loss: 0.6985 - val_acc: 0.8683\n"
          ]
        }
      ]
    },
    {
      "cell_type": "markdown",
      "source": [
        "코드 3-9 훈련과 검증 손실 그리기"
      ],
      "metadata": {
        "id": "54R-5g-vwJC2"
      }
    },
    {
      "cell_type": "code",
      "source": [
        "import matplotlib.pyplot as plt\n",
        "\n",
        "history_dict = history.history\n",
        "loss = history_dict['loss']\n",
        "val_loss = history_dict['val_loss']\n",
        "\n",
        "epochs = range(1, len(loss)+1)\n",
        "\n",
        "plt.plot(epochs, loss, 'bo', label='Training loss') #bo는 파란색 점\n",
        "plt.plot(epochs, val_loss,'b',label='Validation loss') #b는 파란색 실선\n",
        "plt.title('Training and validation loss')\n",
        "plt.xlabel('Epochs')\n",
        "plt.ylabel('Loss')\n",
        "plt.legend()\n",
        "\n",
        "plt.show()"
      ],
      "metadata": {
        "colab": {
          "base_uri": "https://localhost:8080/",
          "height": 295
        },
        "id": "ZcCupnh_wMXv",
        "outputId": "d9196ec6-84fb-4b04-8635-7565454b9190"
      },
      "execution_count": 10,
      "outputs": [
        {
          "output_type": "display_data",
          "data": {
            "image/png": "[encoded data removed]",
            "text/plain": [
              "<Figure size 432x288 with 1 Axes>"
            ]
          },
          "metadata": {
            "needs_background": "light"
          }
        }
      ]
    },
    {
      "cell_type": "markdown",
      "source": [
        "코드 3-10 훈련과 검증 정확도 그리기"
      ],
      "metadata": {
        "id": "KdgDyZxZzn7z"
      }
    },
    {
      "cell_type": "code",
      "source": [
        "plt.clf() #그래프를 초기화\n",
        "acc = history_dict['acc']\n",
        "val_acc = history_dict['val_acc']\n",
        "\n",
        "plt.plot(epochs, acc, 'bo', label='Training acc')\n",
        "plt.plot(epochs, val_acc, 'b',label='Validation acc')\n",
        "plt.title('Training and validation accuracy')\n",
        "plt.xlabel('Epochs')\n",
        "\n",
        "plt.ylabel('Accuracy')\n",
        "plt.legend()\n",
        "plt.show()"
      ],
      "metadata": {
        "colab": {
          "base_uri": "https://localhost:8080/",
          "height": 295
        },
        "id": "SashVTnpzqh0",
        "outputId": "ace7cb48-51c8-44d9-841b-b875c515025d"
      },
      "execution_count": 11,
      "outputs": [
        {
          "output_type": "display_data",
          "data": {
            "image/png": "[encoded data removed]",
            "text/plain": [
              "<Figure size 432x288 with 1 Axes>"
            ]
          },
          "metadata": {
            "needs_background": "light"
          }
        }
      ]
    },
    {
      "cell_type": "markdown",
      "source": [
        "코드 3-11 모델을 처음부터 다시 훈련하기"
      ],
      "metadata": {
        "id": "Hxk5l6TB1T5s"
      }
    },
    {
      "cell_type": "code",
      "source": [
        "model = models.Sequential()\n",
        "\n",
        "model.add(layers.Dense(16,activation='relu',input_shape=(10000,)))\n",
        "model.add(layers.Dense(16,activation='relu'))\n",
        "model.add(layers.Dense(1, activation='sigmoid'))\n",
        "\n",
        "model.compile(optimizer='rmsprop',loss='binary_crossentropy',metrics=['accuracy'])\n",
        "\n",
        "model.fit(x_train, y_train, epochs=4, batch_size=512)\n",
        "results= model.evaluate(x_test, y_test)"
      ],
      "metadata": {
        "colab": {
          "base_uri": "https://localhost:8080/"
        },
        "id": "W7H8q8p21Wh8",
        "outputId": "1e896da0-639c-4250-848b-41f7fd0d3519"
      },
      "execution_count": 12,
      "outputs": [
        {
          "output_type": "stream",
          "name": "stdout",
          "text": [
            "Epoch 1/4\n",
            "49/49 [==============================] - 1s 14ms/step - loss: 0.5335 - accuracy: 0.7758\n",
            "Epoch 2/4\n",
            "49/49 [==============================] - 1s 13ms/step - loss: 0.3178 - accuracy: 0.9045\n",
            "Epoch 3/4\n",
            "49/49 [==============================] - 1s 14ms/step - loss: 0.2274 - accuracy: 0.9258\n",
            "Epoch 4/4\n",
            "49/49 [==============================] - 1s 13ms/step - loss: 0.1848 - accuracy: 0.9380\n",
            "782/782 [==============================] - 3s 4ms/step - loss: 0.2898 - accuracy: 0.8838\n"
          ]
        }
      ]
    },
    {
      "cell_type": "markdown",
      "source": [
        "훈련된 모델로 새로운 데이터에 대해 예측하기"
      ],
      "metadata": {
        "id": "tj4qRAYw2PfE"
      }
    },
    {
      "cell_type": "code",
      "source": [
        "model.predict(x_test)"
      ],
      "metadata": {
        "colab": {
          "base_uri": "https://localhost:8080/"
        },
        "id": "gRM7IsD02Sg8",
        "outputId": "9bb5778a-7a77-4163-d521-944a0a6f8d2b"
      },
      "execution_count": 13,
      "outputs": [
        {
          "output_type": "execute_result",
          "data": {
            "text/plain": [
              "array([[0.17612515],\n",
              "       [0.99281573],\n",
              "       [0.84353364],\n",
              "       ...,\n",
              "       [0.14393286],\n",
              "       [0.08039363],\n",
              "       [0.5377607 ]], dtype=float32)"
            ]
          },
          "metadata": {},
          "execution_count": 13
        }
      ]
    }
  ]
}