{
  "nbformat": 4,
  "nbformat_minor": 0,
  "metadata": {
    "colab": {
      "name": "다중분류_뉴스기사.ipynb",
      "provenance": [],
      "toc_visible": true,
      "authorship_tag": "ABX9TyPlOiU5vKZbY00bHoVIhd56",
      "include_colab_link": true
    },
    "kernelspec": {
      "name": "python3",
      "display_name": "Python 3"
    },
    "language_info": {
      "name": "python"
    }
  },
  "cells": [
    {
      "cell_type": "markdown",
      "metadata": {
        "id": "view-in-github",
        "colab_type": "text"
      },
      "source": [
        "<a href=\"https://colab.research.google.com/github/leemhoon00/prac_keras/blob/main/%EB%8B%A4%EC%A4%91%EB%B6%84%EB%A5%98_%EB%89%B4%EC%8A%A4%EA%B8%B0%EC%82%AC.ipynb\" target=\"_parent\"><img src=\"https://colab.research.google.com/assets/colab-badge.svg\" alt=\"Open In Colab\"/></a>"
      ]
    },
    {
      "cell_type": "markdown",
      "source": [
        "코드 3-12 로이터 데이터셋 로드하기"
      ],
      "metadata": {
        "id": "Tit21Cvw91nL"
      }
    },
    {
      "cell_type": "code",
      "source": [
        "from keras.datasets import reuters\n",
        "\n",
        "(train_data, train_labels), (test_data, test_labels) = reuters.load_data(num_words=10000)"
      ],
      "metadata": {
        "colab": {
          "base_uri": "https://localhost:8080/"
        },
        "id": "VeQHAvip96cz",
        "outputId": "c325f518-9ff1-44c8-b521-5f2033f33c7b"
      },
      "execution_count": 2,
      "outputs": [
        {
          "output_type": "stream",
          "name": "stdout",
          "text": [
            "Downloading data from https://storage.googleapis.com/tensorflow/tf-keras-datasets/reuters.npz\n",
            "2113536/2110848 [==============================] - 0s 0us/step\n",
            "2121728/2110848 [==============================] - 0s 0us/step\n"
          ]
        }
      ]
    },
    {
      "cell_type": "markdown",
      "source": [
        "코드 3-14 데이터 인코딩하기"
      ],
      "metadata": {
        "id": "odyrUjWwC5FP"
      }
    },
    {
      "cell_type": "code",
      "source": [
        "import numpy as np\n",
        "\n",
        "def vectorize_sequences(sequences, dimension=10000):\n",
        "  results = np.zeros((len(sequences),dimension))\n",
        "  for i, sequence in enumerate(sequences):\n",
        "    results[i,sequence] = 1.\n",
        "  return results\n",
        "\n",
        "x_train = vectorize_sequences(train_data)\n",
        "x_test = vectorize_sequences(test_data)"
      ],
      "metadata": {
        "id": "NUVD96Zc9-Jo"
      },
      "execution_count": 8,
      "outputs": []
    },
    {
      "cell_type": "markdown",
      "source": [
        "레이블 원핫 인코딩"
      ],
      "metadata": {
        "id": "G48XeV1TD5gA"
      }
    },
    {
      "cell_type": "code",
      "source": [
        "from keras.utils.np_utils import to_categorical\n",
        "\n",
        "one_hot_train_labels = to_categorical(train_labels)\n",
        "one_hot_test_labels = to_categorical(test_labels)"
      ],
      "metadata": {
        "id": "VbGuUvbJD7d3"
      },
      "execution_count": 9,
      "outputs": []
    },
    {
      "cell_type": "markdown",
      "source": [
        "코드 3-15 모델 정의하기"
      ],
      "metadata": {
        "id": "2VEbL1cMEWjm"
      }
    },
    {
      "cell_type": "code",
      "source": [
        "from keras import models\n",
        "from keras import layers\n",
        "\n",
        "model = models.Sequential()\n",
        "model.add(layers.Dense(64, activation='relu',input_shape=(10000,)))\n",
        "model.add(layers.Dense(64, activation='relu'))\n",
        "model.add(layers.Dense(46,activation='softmax'))"
      ],
      "metadata": {
        "id": "vqf86b2gEYzH"
      },
      "execution_count": 10,
      "outputs": []
    },
    {
      "cell_type": "markdown",
      "source": [
        "코드 3-16 모델 컴파일하기"
      ],
      "metadata": {
        "id": "zINZJmwnFF4B"
      }
    },
    {
      "cell_type": "code",
      "source": [
        "model.compile(optimizer='rmsprop',loss='categorical_crossentropy',metrics=['accuracy'])"
      ],
      "metadata": {
        "id": "Q1VA3oE1FIgJ"
      },
      "execution_count": 12,
      "outputs": []
    },
    {
      "cell_type": "markdown",
      "source": [
        "코드 3-17 검증 세트 준비하기"
      ],
      "metadata": {
        "id": "XhU3mO2OFaqp"
      }
    },
    {
      "cell_type": "code",
      "source": [
        "x_val = x_train[:1000]\n",
        "partial_x_train = x_train[1000:]\n",
        "\n",
        "y_val = one_hot_train_labels[:1000]\n",
        "partial_y_train = one_hot_train_labels[1000:]"
      ],
      "metadata": {
        "id": "ce0V8y1lFdFL"
      },
      "execution_count": 13,
      "outputs": []
    },
    {
      "cell_type": "markdown",
      "source": [
        "코드 3-18 모델 훈련하기"
      ],
      "metadata": {
        "id": "j4_xKkz4Ftn1"
      }
    },
    {
      "cell_type": "code",
      "source": [
        "history = model.fit(partial_x_train, partial_y_train, epochs=20, batch_size=512, validation_data=(x_val, y_val))"
      ],
      "metadata": {
        "colab": {
          "base_uri": "https://localhost:8080/"
        },
        "id": "xLjyhaYNFva9",
        "outputId": "f0d54c5a-ce3b-410c-9dd6-f1879ac6c1df"
      },
      "execution_count": 14,
      "outputs": [
        {
          "output_type": "stream",
          "name": "stdout",
          "text": [
            "Epoch 1/20\n",
            "16/16 [==============================] - 2s 76ms/step - loss: 2.6113 - accuracy: 0.5532 - val_loss: 1.7410 - val_accuracy: 0.6560\n",
            "Epoch 2/20\n",
            "16/16 [==============================] - 1s 61ms/step - loss: 1.4208 - accuracy: 0.7171 - val_loss: 1.3001 - val_accuracy: 0.7310\n",
            "Epoch 3/20\n",
            "16/16 [==============================] - 1s 60ms/step - loss: 1.0507 - accuracy: 0.7793 - val_loss: 1.1415 - val_accuracy: 0.7550\n",
            "Epoch 4/20\n",
            "16/16 [==============================] - 1s 61ms/step - loss: 0.8345 - accuracy: 0.8192 - val_loss: 1.0439 - val_accuracy: 0.7810\n",
            "Epoch 5/20\n",
            "16/16 [==============================] - 1s 62ms/step - loss: 0.6702 - accuracy: 0.8603 - val_loss: 0.9992 - val_accuracy: 0.7900\n",
            "Epoch 6/20\n",
            "16/16 [==============================] - 1s 60ms/step - loss: 0.5427 - accuracy: 0.8870 - val_loss: 0.9383 - val_accuracy: 0.8050\n",
            "Epoch 7/20\n",
            "16/16 [==============================] - 1s 59ms/step - loss: 0.4352 - accuracy: 0.9109 - val_loss: 0.9299 - val_accuracy: 0.7950\n",
            "Epoch 8/20\n",
            "16/16 [==============================] - 1s 59ms/step - loss: 0.3579 - accuracy: 0.9253 - val_loss: 0.9072 - val_accuracy: 0.8130\n",
            "Epoch 9/20\n",
            "16/16 [==============================] - 1s 59ms/step - loss: 0.2961 - accuracy: 0.9352 - val_loss: 0.9635 - val_accuracy: 0.7950\n",
            "Epoch 10/20\n",
            "16/16 [==============================] - 1s 60ms/step - loss: 0.2473 - accuracy: 0.9440 - val_loss: 0.9050 - val_accuracy: 0.8210\n",
            "Epoch 11/20\n",
            "16/16 [==============================] - 1s 58ms/step - loss: 0.2151 - accuracy: 0.9478 - val_loss: 0.9184 - val_accuracy: 0.8140\n",
            "Epoch 12/20\n",
            "16/16 [==============================] - 1s 59ms/step - loss: 0.1891 - accuracy: 0.9500 - val_loss: 0.9330 - val_accuracy: 0.8160\n",
            "Epoch 13/20\n",
            "16/16 [==============================] - 1s 59ms/step - loss: 0.1651 - accuracy: 0.9546 - val_loss: 0.9936 - val_accuracy: 0.8060\n",
            "Epoch 14/20\n",
            "16/16 [==============================] - 1s 59ms/step - loss: 0.1556 - accuracy: 0.9541 - val_loss: 1.0143 - val_accuracy: 0.8000\n",
            "Epoch 15/20\n",
            "16/16 [==============================] - 1s 60ms/step - loss: 0.1407 - accuracy: 0.9574 - val_loss: 0.9684 - val_accuracy: 0.8160\n",
            "Epoch 16/20\n",
            "16/16 [==============================] - 1s 61ms/step - loss: 0.1349 - accuracy: 0.9549 - val_loss: 0.9847 - val_accuracy: 0.8220\n",
            "Epoch 17/20\n",
            "16/16 [==============================] - 1s 59ms/step - loss: 0.1242 - accuracy: 0.9579 - val_loss: 1.0359 - val_accuracy: 0.8100\n",
            "Epoch 18/20\n",
            "16/16 [==============================] - 1s 59ms/step - loss: 0.1225 - accuracy: 0.9565 - val_loss: 1.0367 - val_accuracy: 0.8050\n",
            "Epoch 19/20\n",
            "16/16 [==============================] - 1s 59ms/step - loss: 0.1146 - accuracy: 0.9579 - val_loss: 1.0427 - val_accuracy: 0.8070\n",
            "Epoch 20/20\n",
            "16/16 [==============================] - 1s 58ms/step - loss: 0.1146 - accuracy: 0.9548 - val_loss: 1.1028 - val_accuracy: 0.8020\n"
          ]
        }
      ]
    },
    {
      "cell_type": "markdown",
      "source": [
        "코드 3-19 훈련과 검증 손실 그리기"
      ],
      "metadata": {
        "id": "w2Egn9EKGXqU"
      }
    },
    {
      "cell_type": "code",
      "source": [
        "import matplotlib.pyplot as plt\n",
        "\n",
        "loss = history.history['loss']\n",
        "val_loss = history.history['val_loss']\n",
        "\n",
        "epochs = range(1, len(loss) + 1)\n",
        "\n",
        "plt.plot(epochs, loss, 'bo',label='Training loss')\n",
        "plt.plot(epochs, val_loss, 'b',label='Validation loss')\n",
        "plt.title('Training and validation loss')\n",
        "plt.xlabel('Epochs')\n",
        "plt.ylabel('Loss')\n",
        "plt.legend()\n",
        "\n",
        "plt.show()"
      ],
      "metadata": {
        "colab": {
          "base_uri": "https://localhost:8080/",
          "height": 295
        },
        "id": "HHQtawODGcXE",
        "outputId": "210c732f-9674-4825-b424-a1524a782870"
      },
      "execution_count": 17,
      "outputs": [
        {
          "output_type": "display_data",
          "data": {
            "image/png": "[encoded data removed]",
            "text/plain": [
              "<Figure size 432x288 with 1 Axes>"
            ]
          },
          "metadata": {
            "needs_background": "light"
          }
        }
      ]
    },
    {
      "cell_type": "markdown",
      "source": [
        "코드 3-20 훈련과 검증 정확도 그리기"
      ],
      "metadata": {
        "id": "bMgFpLpmG8in"
      }
    },
    {
      "cell_type": "code",
      "source": [
        "plt.clf()\n",
        "\n",
        "acc = history.history['accuracy']\n",
        "val_acc = history.history['val_accuracy']\n",
        "\n",
        "plt.plot(epochs, acc, 'bo', label='Training acc')\n",
        "plt.plot(epochs, val_acc, 'b', label='Validation acc')\n",
        "plt.title('Training and validation accuracy')\n",
        "plt.xlabel('Epochs')\n",
        "plt.ylabel('Accuracy')\n",
        "plt.legend()\n",
        "\n",
        "plt.show()"
      ],
      "metadata": {
        "colab": {
          "base_uri": "https://localhost:8080/",
          "height": 295
        },
        "id": "dn8rA2fbG-_n",
        "outputId": "e75a0613-1d77-45ad-f33e-a789a8a7ead3"
      },
      "execution_count": 20,
      "outputs": [
        {
          "output_type": "display_data",
          "data": {
            "image/png": "[encoded data removed]",
            "text/plain": [
              "<Figure size 432x288 with 1 Axes>"
            ]
          },
          "metadata": {
            "needs_background": "light"
          }
        }
      ]
    },
    {
      "cell_type": "markdown",
      "source": [
        "코드 3-21 모델을 처음부터 다시 훈련하기"
      ],
      "metadata": {
        "id": "RwL1lSFWIrER"
      }
    },
    {
      "cell_type": "code",
      "source": [
        "model = models.Sequential()\n",
        "model.add(layers.Dense(64, activation='relu',input_shape=(10000,)))\n",
        "model.add(layers.Dense(64, activation='relu'))\n",
        "model.add(layers.Dense(46,activation='softmax'))\n",
        "\n",
        "model.compile(optimizer='rmsprop',loss='categorical_crossentropy',metrics=['accuracy'])\n",
        "\n",
        "model.fit(partial_x_train, partial_y_train, epochs=9, batch_size=512, validation_data=(x_val, y_val))\n",
        "results = model.evaluate(x_test, one_hot_test_labels)"
      ],
      "metadata": {
        "colab": {
          "base_uri": "https://localhost:8080/"
        },
        "id": "GT0fPuMeItwS",
        "outputId": "685f4e06-1628-42e4-ef1a-0f5b1dde4400"
      },
      "execution_count": 21,
      "outputs": [
        {
          "output_type": "stream",
          "name": "stdout",
          "text": [
            "Epoch 1/9\n",
            "16/16 [==============================] - 2s 71ms/step - loss: 2.6630 - accuracy: 0.5584 - val_loss: 1.7401 - val_accuracy: 0.6530\n",
            "Epoch 2/9\n",
            "16/16 [==============================] - 1s 59ms/step - loss: 1.4059 - accuracy: 0.7106 - val_loss: 1.3123 - val_accuracy: 0.7220\n",
            "Epoch 3/9\n",
            "16/16 [==============================] - 1s 58ms/step - loss: 1.0393 - accuracy: 0.7806 - val_loss: 1.1345 - val_accuracy: 0.7570\n",
            "Epoch 4/9\n",
            "16/16 [==============================] - 1s 58ms/step - loss: 0.8184 - accuracy: 0.8275 - val_loss: 1.0215 - val_accuracy: 0.7850\n",
            "Epoch 5/9\n",
            "16/16 [==============================] - 1s 59ms/step - loss: 0.6522 - accuracy: 0.8618 - val_loss: 0.9477 - val_accuracy: 0.8020\n",
            "Epoch 6/9\n",
            "16/16 [==============================] - 1s 58ms/step - loss: 0.5215 - accuracy: 0.8911 - val_loss: 0.9354 - val_accuracy: 0.8040\n",
            "Epoch 7/9\n",
            "16/16 [==============================] - 1s 59ms/step - loss: 0.4171 - accuracy: 0.9139 - val_loss: 0.9342 - val_accuracy: 0.8040\n",
            "Epoch 8/9\n",
            "16/16 [==============================] - 1s 59ms/step - loss: 0.3405 - accuracy: 0.9292 - val_loss: 0.8863 - val_accuracy: 0.8190\n",
            "Epoch 9/9\n",
            "16/16 [==============================] - 1s 58ms/step - loss: 0.2842 - accuracy: 0.9367 - val_loss: 0.8576 - val_accuracy: 0.8220\n",
            "71/71 [==============================] - 0s 3ms/step - loss: 0.9970 - accuracy: 0.7841\n"
          ]
        }
      ]
    },
    {
      "cell_type": "code",
      "source": [
        "results"
      ],
      "metadata": {
        "colab": {
          "base_uri": "https://localhost:8080/"
        },
        "id": "qWlIudpRJI5J",
        "outputId": "5c7f8624-4334-42c2-ce94-9f7feac3cdae"
      },
      "execution_count": 22,
      "outputs": [
        {
          "output_type": "execute_result",
          "data": {
            "text/plain": [
              "[0.9969746470451355, 0.784060537815094]"
            ]
          },
          "metadata": {},
          "execution_count": 22
        }
      ]
    },
    {
      "cell_type": "markdown",
      "source": [
        "코드 3-22 새로운 데이터에 대해 예측하기"
      ],
      "metadata": {
        "id": "nvj40WkVJifl"
      }
    },
    {
      "cell_type": "code",
      "source": [
        "predictions = model.predict(x_test)\n",
        "print(np.sum(predictions[0])) # 원소의 합\n",
        "print(np.argmax(predictions[0])) #가장 큰 값이 예측 클래스"
      ],
      "metadata": {
        "colab": {
          "base_uri": "https://localhost:8080/"
        },
        "id": "fgCp8c3lJmTf",
        "outputId": "7936de3a-b079-4abc-e333-bf74b71dac95"
      },
      "execution_count": 26,
      "outputs": [
        {
          "output_type": "stream",
          "name": "stdout",
          "text": [
            "1.0\n",
            "3\n"
          ]
        }
      ]
    }
  ]
}